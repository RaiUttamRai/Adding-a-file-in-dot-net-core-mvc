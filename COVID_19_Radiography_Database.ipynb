{
  "nbformat": 4,
  "nbformat_minor": 0,
  "metadata": {
    "colab": {
      "provenance": [],
      "toc_visible": true,
      "authorship_tag": "ABX9TyPlO8ANNTwi52fqBV+qqQ9D",
      "include_colab_link": true
    },
    "kernelspec": {
      "name": "python3",
      "display_name": "Python 3"
    },
    "language_info": {
      "name": "python"
    }
  },
  "cells": [
    {
      "cell_type": "markdown",
      "metadata": {
        "id": "view-in-github",
        "colab_type": "text"
      },
      "source": [
        "<a href=\"https://colab.research.google.com/github/RaiUttamRai/Adding-a-file-in-dot-net-core-mvc/blob/main/COVID_19_Radiography_Database.ipynb\" target=\"_parent\"><img src=\"https://colab.research.google.com/assets/colab-badge.svg\" alt=\"Open In Colab\"/></a>"
      ]
    },
    {
      "cell_type": "markdown",
      "source": [
        "**Upload the files**"
      ],
      "metadata": {
        "id": "nEVxYahwqDYF"
      }
    },
    {
      "cell_type": "code",
      "source": [
        "from google.colab import drive\n",
        "drive.mount('/content/drive')\n",
        "#data_path = '/content/drive/MyDrive/COVID-19_Project/COVID-19_Radiography_Dataset'\n",
        "!ls /content/drive/MyDrive\n",
        "\n",
        "\n"
      ],
      "metadata": {
        "colab": {
          "base_uri": "https://localhost:8080/"
        },
        "collapsed": true,
        "id": "EiKh1YC-qIbF",
        "outputId": "a00dff38-6041-41e5-b6bb-2a30d4cbead5"
      },
      "execution_count": 1,
      "outputs": [
        {
          "output_type": "stream",
          "name": "stdout",
          "text": [
            "Mounted at /content/drive\n",
            " 1485791541540.jpg\n",
            " 1486039384354.jpg\n",
            " 1486039548206.jpg\n",
            " 1486039801460.jpg\n",
            " 1486134046298.jpg\n",
            " 1486136505591.jpg\n",
            " 1486198897955.jpg\n",
            " 20161019_102844.jpg\n",
            " 20161126_093449.jpg\n",
            " 20161126_093507.jpg\n",
            " 20161126_093617.jpg\n",
            " 20161126_100128.jpg\n",
            " 20161126_100145.jpg\n",
            " 20161126_100222.jpg\n",
            " 20161126_101300.jpg\n",
            " 20161126_102520.jpg\n",
            " 20161126_110409.jpg\n",
            " 20161126_110417.jpg\n",
            " 2017-02-02-12-20-17-746.jpg\n",
            " 20171103_060648.jpg\n",
            " 20180216_174130.jpg\n",
            " 20180309_173103.jpg\n",
            " 20200307_141459.jpg\n",
            " 20200319_172622.jpg\n",
            " 20200319_172637.jpg\n",
            " 20200326_170955-01.jpeg\n",
            " 20200326_181156.jpg\n",
            " 20200407_201719.jpg\n",
            " 20200411_200032-01.jpeg\n",
            " 20200411_200117.jpg\n",
            " 20200411_200239.jpg\n",
            " 20200412_172359.jpg\n",
            " 20200412_172422.jpg\n",
            " 20200412_172800.jpg\n",
            " 20200505_175128.jpg\n",
            " 20200505_175131.jpg\n",
            " 20200508_122355.jpg\n",
            " 20200508_122739.jpg\n",
            " 20200508_122813-01.jpeg\n",
            " 20200511_194526.jpg\n",
            " 20200511_194541.jpg\n",
            " 20200520_142818.jpg\n",
            " 20200520_142834.jpg\n",
            " 20200521_113424.jpg\n",
            " 20200524_133048.jpg\n",
            " 20200617_215439-01.jpeg\n",
            " 20200621_090955.jpg\n",
            " 20200622_111118.jpg\n",
            " 20200624_164959.jpg\n",
            " 20200701_080934.jpg\n",
            " 20200707_103440.jpg\n",
            " 20200707_103521.jpg\n",
            " 20200713_151839.jpg\n",
            " 20250419_140834.jpg\n",
            "' 6ix9ine'\n",
            "'Colab Notebooks'\n",
            "'contact form.gsheet'\n",
            "'Contact Information.gform'\n",
            " COVID-19_Radiography_Dataset\n",
            "'COVID‑19 Radiography Dataset'\n",
            " EpXZ5WuWSspS9LRR6a5.jpg\n",
            " FB_IMG_14920559669099532.jpg\n",
            " FB_IMG_15411261247795906.jpg\n",
            " FB_IMG_15850505709875528.jpg\n",
            " FB_IMG_15894433908776362.jpg\n",
            " FB_IMG_15973278352097363.jpg\n",
            " FB_IMG_15973278509862591.jpg\n",
            " FB_IMG_15973278547739382.jpg\n",
            " FB_IMG_15973278609475655.jpg\n",
            " FB_IMG_15973278685162309.jpg\n",
            " FB_IMG_15973278749004324.jpg\n",
            " FB_IMG_15973278869691769.jpg\n",
            " IMG_20170203_190331-1.jpg\n",
            " IMG_20170203_191355.jpg\n",
            " IMG_20190224_165445.jpg\n",
            " IMG_20190224_165823.jpg\n",
            " IMG_20190224_165847.jpg\n",
            " IMG_20190224_165943.jpg\n",
            " IMG_20190224_170059.jpg\n",
            " IMG_20190224_170742.jpg\n",
            " IMG_20191009_153233.jpg\n",
            " IMG_20191009_153236.jpg\n",
            " IMG_20191009_170526.jpg\n",
            " IMG_20191011_110032.jpg\n",
            " IMG_20191011_122013.jpg\n",
            " IMG_20191011_122649.jpg\n",
            " IMG_20191011_125820.jpg\n",
            " IMG_20191012_115953.jpg\n",
            " IMG_20191012_121003.jpg\n",
            " IMG_20191013_092204.jpg\n",
            " IMG_20191013_093507.jpg\n",
            " IMG_20191013_093516.jpg\n",
            " IMG_20191013_094039.jpg\n",
            " IMG_20191013_094048.jpg\n",
            " IMG_20191013_094213.jpg\n",
            " IMG_20191013_115226.jpg\n",
            " IMG_20191013_122535.jpg\n",
            " IMG_20191013_124452.jpg\n",
            " IMG_20191013_145957.jpg\n",
            " IMG_20191014_140705.jpg\n",
            " IMG_20191016_092520.jpg\n",
            " IMG_20191016_111856.jpg\n",
            " IMG_20191016_125434.jpg\n",
            " IMG_20191016_130532.jpg\n",
            " IMG_20191019_074148.jpg\n",
            " IMG_20191123_070925.jpg\n",
            " IMG_7938.JPG\n",
            " IMG_9249.JPG\n",
            " IMG_9343.JPG\n",
            " Lung_Opacity.metadata.xlsx\n",
            " received_1032184487136584.png\n",
            " received_133705201396361.png\n",
            " received_195609255049913.png\n",
            " received_205281740543676.png\n",
            " received_212600119852615.png\n",
            " received_226650128445879.jpeg\n",
            "'received_234064851090913 (1).jpeg'\n",
            " received_234064851090913.jpeg\n",
            " received_234757007696590.png\n",
            " received_2560648310707854.png\n",
            " received_285691542400034.png\n",
            " Screenshot_2017-10-12-18-13-11.png\n",
            " Screenshot_20200407-200648_Lite.jpg\n",
            " Screenshot_20200407-200657_Lite.jpg\n",
            " Screenshot_20200407-200709_Lite.jpg\n",
            " Screenshot_20200407-200722_Lite.jpg\n",
            " Screenshot_20200407-200734_Lite.jpg\n",
            " Screenshot_20200413-195052_Gallery.jpg\n",
            " Screenshot_20200511-194322_Gallery.jpg\n",
            " Screenshot_20200511-194439_Gallery.jpg\n",
            " Screenshot_20200813-195642_Lite.jpg\n",
            " Screenshot_20200813-195649_Lite.jpg\n",
            " Screenshot_20200813-195704_Lite.jpg\n",
            " Screenshot_20200813-195710_Lite.jpg\n",
            " Screenshot_20200813-195716_Lite.jpg\n",
            " The.Great.Indian.Kapil.Show.S03E05.1080p.Hindi.WEB-DL.5.1.ESub.x264-HDHub4u.Ms..mkv\n",
            " UK_House_Price_Prediction_dataset_2015_to_2024.csv\n",
            "'Untitled document.gdoc'\n",
            "'Untitled spreadsheet.gsheet'\n"
          ]
        }
      ]
    },
    {
      "cell_type": "code",
      "source": [
        "!ls \"/content/drive/MyDrive/COVID‑19 Radiography Dataset\"\n"
      ],
      "metadata": {
        "colab": {
          "base_uri": "https://localhost:8080/"
        },
        "id": "s0TlyhP4rIaV",
        "outputId": "5541194c-2547-4a7e-df74-16802c7fce96"
      },
      "execution_count": 2,
      "outputs": [
        {
          "output_type": "stream",
          "name": "stdout",
          "text": [
            "COVID-19_Radiography_Dataset\n"
          ]
        }
      ]
    },
    {
      "cell_type": "code",
      "source": [
        "#uupdate the path\n",
        "import os\n",
        "\n",
        "data_path = \"/content/drive/MyDrive/COVID‑19 Radiography Dataset\"\n",
        "\n",
        "print(\"Contents in dataset folder:\")\n",
        "print(os.listdir(data_path))\n"
      ],
      "metadata": {
        "colab": {
          "base_uri": "https://localhost:8080/"
        },
        "id": "rIbawn9Cxtad",
        "outputId": "bb645f67-7f54-4919-970e-89ed6e98db58"
      },
      "execution_count": 3,
      "outputs": [
        {
          "output_type": "stream",
          "name": "stdout",
          "text": [
            "Contents in dataset folder:\n",
            "['COVID-19_Radiography_Dataset']\n"
          ]
        }
      ]
    },
    {
      "cell_type": "code",
      "source": [
        "#only covid images show\n",
        "covid_images_path= \"/content/drive/MyDrive/COVID‑19 Radiography Dataset/COVID-19_Radiography_Dataset/COVID\"\n",
        "#get list of image filename\n",
        "image_files= os.listdir(covid_images_path)\n",
        "#len(image_files)\n",
        "image_files[:10]\n",
        "\n"
      ],
      "metadata": {
        "id": "7MqI7qqPxvEl",
        "colab": {
          "base_uri": "https://localhost:8080/"
        },
        "outputId": "f10d19b4-dc5a-4302-f830-2dd3b92f3816"
      },
      "execution_count": 4,
      "outputs": [
        {
          "output_type": "execute_result",
          "data": {
            "text/plain": [
              "['images', 'masks']"
            ]
          },
          "metadata": {},
          "execution_count": 4
        }
      ]
    },
    {
      "cell_type": "code",
      "source": [
        "#only Lung opacity images show\n",
        "lung_images_path= \"/content/drive/MyDrive/COVID‑19 Radiography Dataset/COVID-19_Radiography_Dataset/Lung_Opacity\"\n",
        "#get list of image filename\n",
        "lung_image_files= os.listdir(lung_images_path)\n",
        "#len(image_files)\n",
        "lung_image_files[:10]\n",
        "len(lung_image_files)"
      ],
      "metadata": {
        "colab": {
          "base_uri": "https://localhost:8080/"
        },
        "id": "0Vo5wHdpG2jb",
        "outputId": "32ffd5a8-0abe-4159-ec72-69fc8d939960"
      },
      "execution_count": 5,
      "outputs": [
        {
          "output_type": "execute_result",
          "data": {
            "text/plain": [
              "2"
            ]
          },
          "metadata": {},
          "execution_count": 5
        }
      ]
    },
    {
      "cell_type": "markdown",
      "source": [
        "#Data Preprocessing\n",
        "this is we prepare the image for training"
      ],
      "metadata": {
        "id": "DZTJ_oFrTi-4"
      }
    },
    {
      "cell_type": "code",
      "source": [
        "from tensorflow.keras.preprocessing.image import ImageDataGenerator\n",
        "\n",
        "train_datagen= ImageDataGenerator(\n",
        "    rescale=1./255,  #normalize pixel values 0-255 to 0-1\n",
        "    rotation_range=15, #image rotate by 15\n",
        "    zoom_range=0.1, #zoom upto 10%\n",
        "    width_shift_range=0.1, #horizontal shift\n",
        "    height_shift_range=0.1, #vertical\n",
        "    horizontal_flip=True,\n",
        "    validation_split=0.2\n",
        ")\n"
      ],
      "metadata": {
        "id": "GZlyWhvaTtjW"
      },
      "execution_count": 6,
      "outputs": []
    },
    {
      "cell_type": "markdown",
      "source": [
        "#Load training and data validation\n",
        "flow_from_directory=> load images and automatically assign labels based on folder name"
      ],
      "metadata": {
        "id": "3iHuj3SPV-2g"
      }
    },
    {
      "cell_type": "code",
      "source": [
        "train_data= train_datagen.flow_from_directory(\n",
        "    data_path,\n",
        "    target_size=(224,224),\n",
        "    batch_size=32,\n",
        "    class_mode=\"categorical\",\n",
        "    subset=\"training\"\n",
        ")\n",
        "val_data= train_datagen.flow_from_directory(\n",
        "    data_path,\n",
        "    target_size=(224,224),\n",
        "    batch_size=32,\n",
        "    class_mode=\"categorical\",\n",
        "    subset=\"validation\"\n",
        ")"
      ],
      "metadata": {
        "colab": {
          "base_uri": "https://localhost:8080/"
        },
        "id": "9qzHfh3DWQ5F",
        "outputId": "3cbef577-8711-4daf-ad9a-fe38e92c5ac4"
      },
      "execution_count": 7,
      "outputs": [
        {
          "output_type": "stream",
          "name": "stdout",
          "text": [
            "Found 40 images belonging to 1 classes.\n",
            "Found 10 images belonging to 1 classes.\n"
          ]
        }
      ]
    },
    {
      "cell_type": "markdown",
      "source": [
        "#Define the CNN model\n",
        "\n",
        "\n",
        "1.   Conv2D = applies the filter to extract features from this image\n",
        "2.   MaxPooling = reduces the size of features maps\n",
        "3.   Flatten = convert to 2D -> 1D\n",
        "4.   Dropout = helps to prevent overfitting\n",
        "\n"
      ],
      "metadata": {
        "id": "a4RBHe-LZWuh"
      }
    },
    {
      "cell_type": "code",
      "source": [
        "import tensorflow as tf\n",
        "model=tf.keras.Sequential([\n",
        "    tf.keras.layers.Conv2D(32,(3,3),activation=\"relu\", input_shape=(224,224,3)),\n",
        "    tf.keras.layers.MaxPooling2D(2,2),\n",
        "\n",
        "    tf.keras.layers.Conv2D(64,(3,3),activation=\"relu\"),\n",
        "    tf.keras.layers.MaxPooling2D(2,2),\n",
        "\n",
        "    tf.keras.layers.Conv2D(128,(3,3),activation=\"relu\"),\n",
        "    tf.keras.layers.MaxPooling2D(2,2),\n",
        "\n",
        "    tf.keras.layers.Flatten(),\n",
        "    tf.keras.layers.Dense(128,activation=\"relu\"),\n",
        "    tf.keras.layers.Dropout(0.5),\n",
        "    tf.keras.layers.Dense(4, activation=\"softmax\")\n",
        "\n",
        "\n",
        "\n",
        "])"
      ],
      "metadata": {
        "id": "ix5_dN2yZdv6",
        "colab": {
          "base_uri": "https://localhost:8080/"
        },
        "outputId": "ae4a05a9-628e-4940-93c2-3730b92e6a5e"
      },
      "execution_count": 8,
      "outputs": [
        {
          "output_type": "stream",
          "name": "stderr",
          "text": [
            "/usr/local/lib/python3.11/dist-packages/keras/src/layers/convolutional/base_conv.py:107: UserWarning: Do not pass an `input_shape`/`input_dim` argument to a layer. When using Sequential models, prefer using an `Input(shape)` object as the first layer in the model instead.\n",
            "  super().__init__(activity_regularizer=activity_regularizer, **kwargs)\n"
          ]
        }
      ]
    },
    {
      "cell_type": "markdown",
      "source": [
        "# Compile and fit the models"
      ],
      "metadata": {
        "id": "ofgn8pE2eHcz"
      }
    },
    {
      "cell_type": "code",
      "source": [
        "model.compile(\n",
        "    loss=tf.keras.losses.SparseCategoricalCrossentropy(),\n",
        "    optimizer=\"adam\",\n",
        "    metrics=[\"accuracy\"]\n",
        ")\n",
        "#fit the model\n",
        "history = model.fit(train_data,epochs=20,validation_data=val_data)"
      ],
      "metadata": {
        "colab": {
          "base_uri": "https://localhost:8080/"
        },
        "id": "4aRwYls4eNtx",
        "outputId": "bac340e3-a193-4c8f-84d5-f98a83c8aafb"
      },
      "execution_count": 9,
      "outputs": [
        {
          "output_type": "stream",
          "name": "stderr",
          "text": [
            "/usr/local/lib/python3.11/dist-packages/keras/src/trainers/data_adapters/py_dataset_adapter.py:121: UserWarning: Your `PyDataset` class should call `super().__init__(**kwargs)` in its constructor. `**kwargs` can include `workers`, `use_multiprocessing`, `max_queue_size`. Do not pass these arguments to `fit()`, as they will be ignored.\n",
            "  self._warn_if_super_not_called()\n"
          ]
        },
        {
          "output_type": "stream",
          "name": "stdout",
          "text": [
            "Epoch 1/20\n",
            "\u001b[1m2/2\u001b[0m \u001b[32m━━━━━━━━━━━━━━━━━━━━\u001b[0m\u001b[37m\u001b[0m \u001b[1m11s\u001b[0m 8s/step - accuracy: 0.5917 - loss: 0.6590 - val_accuracy: 1.0000 - val_loss: 0.0000e+00\n",
            "Epoch 2/20\n",
            "\u001b[1m2/2\u001b[0m \u001b[32m━━━━━━━━━━━━━━━━━━━━\u001b[0m\u001b[37m\u001b[0m \u001b[1m5s\u001b[0m 4s/step - accuracy: 1.0000 - loss: 9.9341e-08 - val_accuracy: 1.0000 - val_loss: 0.0000e+00\n",
            "Epoch 3/20\n",
            "\u001b[1m2/2\u001b[0m \u001b[32m━━━━━━━━━━━━━━━━━━━━\u001b[0m\u001b[37m\u001b[0m \u001b[1m6s\u001b[0m 2s/step - accuracy: 1.0000 - loss: 0.0000e+00 - val_accuracy: 1.0000 - val_loss: 0.0000e+00\n",
            "Epoch 4/20\n",
            "\u001b[1m2/2\u001b[0m \u001b[32m━━━━━━━━━━━━━━━━━━━━\u001b[0m\u001b[37m\u001b[0m \u001b[1m9s\u001b[0m 4s/step - accuracy: 1.0000 - loss: 0.0000e+00 - val_accuracy: 1.0000 - val_loss: 0.0000e+00\n",
            "Epoch 5/20\n",
            "\u001b[1m2/2\u001b[0m \u001b[32m━━━━━━━━━━━━━━━━━━━━\u001b[0m\u001b[37m\u001b[0m \u001b[1m7s\u001b[0m 2s/step - accuracy: 1.0000 - loss: 0.0000e+00 - val_accuracy: 1.0000 - val_loss: 0.0000e+00\n",
            "Epoch 6/20\n",
            "\u001b[1m2/2\u001b[0m \u001b[32m━━━━━━━━━━━━━━━━━━━━\u001b[0m\u001b[37m\u001b[0m \u001b[1m8s\u001b[0m 4s/step - accuracy: 1.0000 - loss: 0.0000e+00 - val_accuracy: 1.0000 - val_loss: 0.0000e+00\n",
            "Epoch 7/20\n",
            "\u001b[1m2/2\u001b[0m \u001b[32m━━━━━━━━━━━━━━━━━━━━\u001b[0m\u001b[37m\u001b[0m \u001b[1m7s\u001b[0m 2s/step - accuracy: 1.0000 - loss: 0.0000e+00 - val_accuracy: 1.0000 - val_loss: 0.0000e+00\n",
            "Epoch 8/20\n",
            "\u001b[1m2/2\u001b[0m \u001b[32m━━━━━━━━━━━━━━━━━━━━\u001b[0m\u001b[37m\u001b[0m \u001b[1m5s\u001b[0m 4s/step - accuracy: 1.0000 - loss: 0.0000e+00 - val_accuracy: 1.0000 - val_loss: 0.0000e+00\n",
            "Epoch 9/20\n",
            "\u001b[1m2/2\u001b[0m \u001b[32m━━━━━━━━━━━━━━━━━━━━\u001b[0m\u001b[37m\u001b[0m \u001b[1m5s\u001b[0m 4s/step - accuracy: 1.0000 - loss: 0.0000e+00 - val_accuracy: 1.0000 - val_loss: 0.0000e+00\n",
            "Epoch 10/20\n",
            "\u001b[1m2/2\u001b[0m \u001b[32m━━━━━━━━━━━━━━━━━━━━\u001b[0m\u001b[37m\u001b[0m \u001b[1m7s\u001b[0m 1s/step - accuracy: 1.0000 - loss: 0.0000e+00 - val_accuracy: 1.0000 - val_loss: 0.0000e+00\n",
            "Epoch 11/20\n",
            "\u001b[1m2/2\u001b[0m \u001b[32m━━━━━━━━━━━━━━━━━━━━\u001b[0m\u001b[37m\u001b[0m \u001b[1m5s\u001b[0m 4s/step - accuracy: 1.0000 - loss: 0.0000e+00 - val_accuracy: 1.0000 - val_loss: 0.0000e+00\n",
            "Epoch 12/20\n",
            "\u001b[1m2/2\u001b[0m \u001b[32m━━━━━━━━━━━━━━━━━━━━\u001b[0m\u001b[37m\u001b[0m \u001b[1m7s\u001b[0m 3s/step - accuracy: 1.0000 - loss: 0.0000e+00 - val_accuracy: 1.0000 - val_loss: 0.0000e+00\n",
            "Epoch 13/20\n",
            "\u001b[1m2/2\u001b[0m \u001b[32m━━━━━━━━━━━━━━━━━━━━\u001b[0m\u001b[37m\u001b[0m \u001b[1m5s\u001b[0m 4s/step - accuracy: 1.0000 - loss: 0.0000e+00 - val_accuracy: 1.0000 - val_loss: 0.0000e+00\n",
            "Epoch 14/20\n",
            "\u001b[1m2/2\u001b[0m \u001b[32m━━━━━━━━━━━━━━━━━━━━\u001b[0m\u001b[37m\u001b[0m \u001b[1m5s\u001b[0m 1s/step - accuracy: 1.0000 - loss: 0.0000e+00 - val_accuracy: 1.0000 - val_loss: 0.0000e+00\n",
            "Epoch 15/20\n",
            "\u001b[1m2/2\u001b[0m \u001b[32m━━━━━━━━━━━━━━━━━━━━\u001b[0m\u001b[37m\u001b[0m \u001b[1m8s\u001b[0m 6s/step - accuracy: 1.0000 - loss: 0.0000e+00 - val_accuracy: 1.0000 - val_loss: 0.0000e+00\n",
            "Epoch 16/20\n",
            "\u001b[1m2/2\u001b[0m \u001b[32m━━━━━━━━━━━━━━━━━━━━\u001b[0m\u001b[37m\u001b[0m \u001b[1m5s\u001b[0m 1s/step - accuracy: 1.0000 - loss: 0.0000e+00 - val_accuracy: 1.0000 - val_loss: 0.0000e+00\n",
            "Epoch 17/20\n",
            "\u001b[1m2/2\u001b[0m \u001b[32m━━━━━━━━━━━━━━━━━━━━\u001b[0m\u001b[37m\u001b[0m \u001b[1m6s\u001b[0m 5s/step - accuracy: 1.0000 - loss: 0.0000e+00 - val_accuracy: 1.0000 - val_loss: 0.0000e+00\n",
            "Epoch 18/20\n",
            "\u001b[1m2/2\u001b[0m \u001b[32m━━━━━━━━━━━━━━━━━━━━\u001b[0m\u001b[37m\u001b[0m \u001b[1m6s\u001b[0m 1s/step - accuracy: 1.0000 - loss: 0.0000e+00 - val_accuracy: 1.0000 - val_loss: 0.0000e+00\n",
            "Epoch 19/20\n",
            "\u001b[1m2/2\u001b[0m \u001b[32m━━━━━━━━━━━━━━━━━━━━\u001b[0m\u001b[37m\u001b[0m \u001b[1m5s\u001b[0m 4s/step - accuracy: 1.0000 - loss: 0.0000e+00 - val_accuracy: 1.0000 - val_loss: 0.0000e+00\n",
            "Epoch 20/20\n",
            "\u001b[1m2/2\u001b[0m \u001b[32m━━━━━━━━━━━━━━━━━━━━\u001b[0m\u001b[37m\u001b[0m \u001b[1m7s\u001b[0m 2s/step - accuracy: 1.0000 - loss: 0.0000e+00 - val_accuracy: 1.0000 - val_loss: 0.0000e+00\n"
          ]
        }
      ]
    },
    {
      "cell_type": "markdown",
      "source": [
        "#Evaluate this model"
      ],
      "metadata": {
        "id": "M1N0jcm-ijB7"
      }
    },
    {
      "cell_type": "code",
      "source": [
        "loss,accuracy=model.evaluate(val_data)\n",
        "print(f\"Validation accuracy:{accuracy*100:.2f}%\")"
      ],
      "metadata": {
        "colab": {
          "base_uri": "https://localhost:8080/"
        },
        "id": "2nhAm_9limPb",
        "outputId": "2f1201b5-399a-4a89-b4fb-ace13d38d2e9"
      },
      "execution_count": 10,
      "outputs": [
        {
          "output_type": "stream",
          "name": "stdout",
          "text": [
            "\u001b[1m1/1\u001b[0m \u001b[32m━━━━━━━━━━━━━━━━━━━━\u001b[0m\u001b[37m\u001b[0m \u001b[1m0s\u001b[0m 459ms/step - accuracy: 1.0000 - loss: 0.0000e+00\n",
            "Validation accuracy:100.00%\n"
          ]
        }
      ]
    },
    {
      "cell_type": "markdown",
      "source": [
        "#Visualized performance"
      ],
      "metadata": {
        "id": "AjAYrLQekage"
      }
    },
    {
      "cell_type": "code",
      "source": [
        "import matplotlib.pyplot as plt\n",
        "plt.plot(history.history[\"accuracy\"],label=\"Training Accuracy\")\n",
        "plt.plot(history.history[\"val_accuracy\"],label=\"Validation Accuracy\")\n",
        "plt.xlabel(\"Epochs\")\n",
        "plt.ylabel(\"Accuracy\")\n",
        "plt.legend()\n",
        "plt.title(\"Trainig vs Validation Accuracy\")\n",
        "plt.show()"
      ],
      "metadata": {
        "colab": {
          "base_uri": "https://localhost:8080/",
          "height": 472
        },
        "id": "kB3D5KzXkgIW",
        "outputId": "dd42758f-a3c2-47cc-9e87-4cd81d3f38a1"
      },
      "execution_count": 11,
      "outputs": [
        {
          "output_type": "display_data",
          "data": {
            "text/plain": [
              "<Figure size 640x480 with 1 Axes>"
            ],
            "image/png": "[encoded data removed]"
          },
          "metadata": {}
        }
      ]
    },
    {
      "cell_type": "markdown",
      "source": [
        "# Make Prediction"
      ],
      "metadata": {
        "id": "LDFBNxuDl8yU"
      }
    },
    {
      "cell_type": "code",
      "source": [
        "import numpy as np\n",
        "from tensorflow.keras.preprocessing import image\n",
        "#load a single image and predict its class\n",
        "img_path = \"/content/drive/MyDrive/COVID‑19 Radiography Dataset/COVID-19_Radiography_Dataset/COVID/images/COVID-1.png\"\n",
        "img=image.load_img(img_path,target_size=(224,224))\n",
        "img_array=image.img_to_array(img)/255.0\n",
        "img_array=np.expand_dims(img_array,axis=0)\n",
        "predict=model.predict(img_array)\n",
        "predicted_classes=np.argmax(predict)\n",
        "print(\"Predicted Classes:\", predicted_classes)"
      ],
      "metadata": {
        "colab": {
          "base_uri": "https://localhost:8080/",
          "height": 384
        },
        "id": "uF-3_34gmBOO",
        "outputId": "da95e149-c3ab-4b70-9c8e-a86fd840e91b"
      },
      "execution_count": 12,
      "outputs": [
        {
          "output_type": "error",
          "ename": "FileNotFoundError",
          "evalue": "[Errno 2] No such file or directory: '/content/drive/MyDrive/COVID‑19 Radiography Dataset/COVID-19_Radiography_Dataset/COVID/images/COVID-1.png'",
          "traceback": [
            "\u001b[0;31m---------------------------------------------------------------------------\u001b[0m",
            "\u001b[0;31mFileNotFoundError\u001b[0m                         Traceback (most recent call last)",
            "\u001b[0;32m/tmp/ipython-input-12-2778678601.py\u001b[0m in \u001b[0;36m<cell line: 0>\u001b[0;34m()\u001b[0m\n\u001b[1;32m      3\u001b[0m \u001b[0;31m#load a single image and predict its class\u001b[0m\u001b[0;34m\u001b[0m\u001b[0;34m\u001b[0m\u001b[0m\n\u001b[1;32m      4\u001b[0m \u001b[0mimg_path\u001b[0m \u001b[0;34m=\u001b[0m \u001b[0;34m\"/content/drive/MyDrive/COVID‑19 Radiography Dataset/COVID-19_Radiography_Dataset/COVID/images/COVID-1.png\"\u001b[0m\u001b[0;34m\u001b[0m\u001b[0;34m\u001b[0m\u001b[0m\n\u001b[0;32m----> 5\u001b[0;31m \u001b[0mimg\u001b[0m\u001b[0;34m=\u001b[0m\u001b[0mimage\u001b[0m\u001b[0;34m.\u001b[0m\u001b[0mload_img\u001b[0m\u001b[0;34m(\u001b[0m\u001b[0mimg_path\u001b[0m\u001b[0;34m,\u001b[0m\u001b[0mtarget_size\u001b[0m\u001b[0;34m=\u001b[0m\u001b[0;34m(\u001b[0m\u001b[0;36m224\u001b[0m\u001b[0;34m,\u001b[0m\u001b[0;36m224\u001b[0m\u001b[0;34m)\u001b[0m\u001b[0;34m)\u001b[0m\u001b[0;34m\u001b[0m\u001b[0;34m\u001b[0m\u001b[0m\n\u001b[0m\u001b[1;32m      6\u001b[0m \u001b[0mimg_array\u001b[0m\u001b[0;34m=\u001b[0m\u001b[0mimage\u001b[0m\u001b[0;34m.\u001b[0m\u001b[0mimg_to_array\u001b[0m\u001b[0;34m(\u001b[0m\u001b[0mimg\u001b[0m\u001b[0;34m)\u001b[0m\u001b[0;34m/\u001b[0m\u001b[0;36m255.0\u001b[0m\u001b[0;34m\u001b[0m\u001b[0;34m\u001b[0m\u001b[0m\n\u001b[1;32m      7\u001b[0m \u001b[0mimg_array\u001b[0m\u001b[0;34m=\u001b[0m\u001b[0mnp\u001b[0m\u001b[0;34m.\u001b[0m\u001b[0mexpand_dims\u001b[0m\u001b[0;34m(\u001b[0m\u001b[0mimg_array\u001b[0m\u001b[0;34m,\u001b[0m\u001b[0maxis\u001b[0m\u001b[0;34m=\u001b[0m\u001b[0;36m0\u001b[0m\u001b[0;34m)\u001b[0m\u001b[0;34m\u001b[0m\u001b[0;34m\u001b[0m\u001b[0m\n",
            "\u001b[0;32m/usr/local/lib/python3.11/dist-packages/keras/src/utils/image_utils.py\u001b[0m in \u001b[0;36mload_img\u001b[0;34m(path, color_mode, target_size, interpolation, keep_aspect_ratio)\u001b[0m\n\u001b[1;32m    233\u001b[0m         \u001b[0;32mif\u001b[0m \u001b[0misinstance\u001b[0m\u001b[0;34m(\u001b[0m\u001b[0mpath\u001b[0m\u001b[0;34m,\u001b[0m \u001b[0mpathlib\u001b[0m\u001b[0;34m.\u001b[0m\u001b[0mPath\u001b[0m\u001b[0;34m)\u001b[0m\u001b[0;34m:\u001b[0m\u001b[0;34m\u001b[0m\u001b[0;34m\u001b[0m\u001b[0m\n\u001b[1;32m    234\u001b[0m             \u001b[0mpath\u001b[0m \u001b[0;34m=\u001b[0m \u001b[0mstr\u001b[0m\u001b[0;34m(\u001b[0m\u001b[0mpath\u001b[0m\u001b[0;34m.\u001b[0m\u001b[0mresolve\u001b[0m\u001b[0;34m(\u001b[0m\u001b[0;34m)\u001b[0m\u001b[0;34m)\u001b[0m\u001b[0;34m\u001b[0m\u001b[0;34m\u001b[0m\u001b[0m\n\u001b[0;32m--> 235\u001b[0;31m         \u001b[0;32mwith\u001b[0m \u001b[0mopen\u001b[0m\u001b[0;34m(\u001b[0m\u001b[0mpath\u001b[0m\u001b[0;34m,\u001b[0m \u001b[0;34m\"rb\"\u001b[0m\u001b[0;34m)\u001b[0m \u001b[0;32mas\u001b[0m \u001b[0mf\u001b[0m\u001b[0;34m:\u001b[0m\u001b[0;34m\u001b[0m\u001b[0;34m\u001b[0m\u001b[0m\n\u001b[0m\u001b[1;32m    236\u001b[0m             \u001b[0mimg\u001b[0m \u001b[0;34m=\u001b[0m \u001b[0mpil_image\u001b[0m\u001b[0;34m.\u001b[0m\u001b[0mopen\u001b[0m\u001b[0;34m(\u001b[0m\u001b[0mio\u001b[0m\u001b[0;34m.\u001b[0m\u001b[0mBytesIO\u001b[0m\u001b[0;34m(\u001b[0m\u001b[0mf\u001b[0m\u001b[0;34m.\u001b[0m\u001b[0mread\u001b[0m\u001b[0;34m(\u001b[0m\u001b[0;34m)\u001b[0m\u001b[0;34m)\u001b[0m\u001b[0;34m)\u001b[0m\u001b[0;34m\u001b[0m\u001b[0;34m\u001b[0m\u001b[0m\n\u001b[1;32m    237\u001b[0m     \u001b[0;32melse\u001b[0m\u001b[0;34m:\u001b[0m\u001b[0;34m\u001b[0m\u001b[0;34m\u001b[0m\u001b[0m\n",
            "\u001b[0;31mFileNotFoundError\u001b[0m: [Errno 2] No such file or directory: '/content/drive/MyDrive/COVID‑19 Radiography Dataset/COVID-19_Radiography_Dataset/COVID/images/COVID-1.png'"
          ]
        }
      ]
    },
    {
      "cell_type": "code",
      "source": [
        "#2 HDF5 Format\n",
        "model.save(\"COVID-19_Radiography_Database.h5\")"
      ],
      "metadata": {
        "colab": {
          "base_uri": "https://localhost:8080/"
        },
        "id": "tZziv1ujp_87",
        "outputId": "e99090b5-9339-495f-f177-01edca38dc54"
      },
      "execution_count": 14,
      "outputs": [
        {
          "output_type": "stream",
          "name": "stderr",
          "text": [
            "WARNING:absl:You are saving your model as an HDF5 file via `model.save()` or `keras.saving.save_model(model)`. This file format is considered legacy. We recommend using instead the native Keras format, e.g. `model.save('my_model.keras')` or `keras.saving.save_model(model, 'my_model.keras')`. \n"
          ]
        }
      ]
    },
    {
      "cell_type": "code",
      "source": [
        "from google.colab import drive\n",
        "drive.mount('/content/drive')"
      ],
      "metadata": {
        "id": "nDeYj0hQqKNG"
      },
      "execution_count": null,
      "outputs": []
    }
  ]
}